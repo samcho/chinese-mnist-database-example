{
 "cells": [
  {
   "cell_type": "code",
   "execution_count": 128,
   "metadata": {},
   "outputs": [
    {
     "data": {
      "text/html": [
       "        <script type=\"text/javascript\">\n",
       "        window.PlotlyConfig = {MathJaxConfig: 'local'};\n",
       "        if (window.MathJax) {MathJax.Hub.Config({SVG: {font: \"STIX-Web\"}});}\n",
       "        if (typeof require !== 'undefined') {\n",
       "        require.undef(\"plotly\");\n",
       "        requirejs.config({\n",
       "            paths: {\n",
       "                'plotly': ['https://cdn.plot.ly/plotly-latest.min']\n",
       "            }\n",
       "        });\n",
       "        require(['plotly'], function(Plotly) {\n",
       "            window._Plotly = Plotly;\n",
       "        });\n",
       "        }\n",
       "        </script>\n",
       "        "
      ]
     },
     "metadata": {},
     "output_type": "display_data"
    }
   ],
   "source": [
    "import pandas as pd\n",
    "import numpy as np\n",
    "import sys\n",
    "import os\n",
    "import random\n",
    "from pathlib import Path\n",
    "import imageio\n",
    "import skimage\n",
    "import skimage.io\n",
    "import skimage.transform\n",
    "import matplotlib.pyplot as plt\n",
    "import seaborn as sns\n",
    "import plotly.graph_objs as go\n",
    "import plotly.figure_factory as ff\n",
    "from plotly import tools\n",
    "from plotly.offline import download_plotlyjs, init_notebook_mode, plot, iplot\n",
    "init_notebook_mode(connected=True)\n",
    "import scipy\n",
    "from sklearn.model_selection import train_test_split\n",
    "from sklearn import metrics\n",
    "from keras import optimizers\n",
    "from keras.models import Sequential\n",
    "from keras.layers import Dense, Conv2D, Flatten, MaxPool2D, Dropout, BatchNormalization,LeakyReLU\n",
    "from keras.preprocessing.image import ImageDataGenerator\n",
    "from keras.callbacks import ModelCheckpoint, Callback, EarlyStopping, ReduceLROnPlateau, LearningRateScheduler\n",
    "from keras.utils import to_categorical\n",
    "import tensorflow_addons as tfa\n",
    "import warnings\n",
    "warnings.filterwarnings(\"ignore\", category=DeprecationWarning)\n",
    "import tensorflow as tf\n"
   ]
  },
  {
   "cell_type": "code",
   "execution_count": 149,
   "metadata": {},
   "outputs": [],
   "source": [
    "IMAGE_PATH = '.'\n",
    "IMAGE_WIDTH = 64\n",
    "IMAGE_HEIGHT = 64\n",
    "IMAGE_CHANNELS = 1\n",
    "RANDOM_STATE = 42\n",
    "TEST_SIZE = 0.2\n",
    "VAL_SIZE = 0.2\n",
    "CONV_2D_DIM_1 = 16\n",
    "CONV_2D_DIM_2 = 16\n",
    "CONV_2D_DIM_3 = 32\n",
    "CONV_2D_DIM_4 = 64\n",
    "MAX_POOL_DIM = 2\n",
    "KERNEL_SIZE = 3\n",
    "BATCH_SIZE = 32\n",
    "NO_EPOCHS = 50\n",
    "DROPOUT_RATIO = 0.5\n",
    "PATIENCE = 5\n",
    "VERBOSE = 1"
   ]
  },
  {
   "cell_type": "code",
   "execution_count": 150,
   "metadata": {},
   "outputs": [
    {
     "data": {
      "text/plain": [
       "['data', 'chinese_mnist.csv', 'archive.zip']"
      ]
     },
     "execution_count": 150,
     "metadata": {},
     "output_type": "execute_result"
    }
   ],
   "source": [
    "# load the data\n",
    "os.listdir(\".\")"
   ]
  },
  {
   "cell_type": "code",
   "execution_count": 151,
   "metadata": {},
   "outputs": [],
   "source": [
    "# load the dataset file\n",
    "data_df=pd.read_csv('./chinese_mnist.csv')"
   ]
  },
  {
   "cell_type": "code",
   "execution_count": 152,
   "metadata": {},
   "outputs": [
    {
     "data": {
      "text/plain": [
       "(15000, 5)"
      ]
     },
     "execution_count": 152,
     "metadata": {},
     "output_type": "execute_result"
    }
   ],
   "source": [
    "# print number of columns and rows\n",
    "data_df.shape"
   ]
  },
  {
   "cell_type": "code",
   "execution_count": 153,
   "metadata": {},
   "outputs": [
    {
     "data": {
      "text/html": [
       "<div>\n",
       "<style scoped>\n",
       "    .dataframe tbody tr th:only-of-type {\n",
       "        vertical-align: middle;\n",
       "    }\n",
       "\n",
       "    .dataframe tbody tr th {\n",
       "        vertical-align: top;\n",
       "    }\n",
       "\n",
       "    .dataframe thead th {\n",
       "        text-align: right;\n",
       "    }\n",
       "</style>\n",
       "<table border=\"1\" class=\"dataframe\">\n",
       "  <thead>\n",
       "    <tr style=\"text-align: right;\">\n",
       "      <th></th>\n",
       "      <th>suite_id</th>\n",
       "      <th>sample_id</th>\n",
       "      <th>code</th>\n",
       "      <th>value</th>\n",
       "      <th>character</th>\n",
       "    </tr>\n",
       "  </thead>\n",
       "  <tbody>\n",
       "    <tr>\n",
       "      <th>1357</th>\n",
       "      <td>40</td>\n",
       "      <td>7</td>\n",
       "      <td>11</td>\n",
       "      <td>10</td>\n",
       "      <td>十</td>\n",
       "    </tr>\n",
       "    <tr>\n",
       "      <th>13817</th>\n",
       "      <td>82</td>\n",
       "      <td>7</td>\n",
       "      <td>8</td>\n",
       "      <td>7</td>\n",
       "      <td>七</td>\n",
       "    </tr>\n",
       "    <tr>\n",
       "      <th>12044</th>\n",
       "      <td>12</td>\n",
       "      <td>4</td>\n",
       "      <td>7</td>\n",
       "      <td>6</td>\n",
       "      <td>六</td>\n",
       "    </tr>\n",
       "    <tr>\n",
       "      <th>14613</th>\n",
       "      <td>64</td>\n",
       "      <td>3</td>\n",
       "      <td>9</td>\n",
       "      <td>8</td>\n",
       "      <td>八</td>\n",
       "    </tr>\n",
       "    <tr>\n",
       "      <th>8744</th>\n",
       "      <td>76</td>\n",
       "      <td>4</td>\n",
       "      <td>3</td>\n",
       "      <td>2</td>\n",
       "      <td>二</td>\n",
       "    </tr>\n",
       "  </tbody>\n",
       "</table>\n",
       "</div>"
      ],
      "text/plain": [
       "       suite_id  sample_id  code  value character\n",
       "1357         40          7    11     10         十\n",
       "13817        82          7     8      7         七\n",
       "12044        12          4     7      6         六\n",
       "14613        64          3     9      8         八\n",
       "8744         76          4     3      2         二"
      ]
     },
     "execution_count": 153,
     "metadata": {},
     "output_type": "execute_result"
    }
   ],
   "source": [
    "# take a peek at the raw data\n",
    "# suite_id - each suite corresponds to a set of handwritten samples by one volunteer;\n",
    "# sample_id - each sample will contain a complete set of 15 characters for Chinese numbers;\n",
    "# code - for each Chinese character we are using a code, with values from 1 to 15;\n",
    "# value - this is the actual numerical value associated with the Chinese character for number;\n",
    "# character - the Chinese character;\n",
    "data_df.sample(100).head()"
   ]
  },
  {
   "cell_type": "code",
   "execution_count": 154,
   "metadata": {},
   "outputs": [
    {
     "data": {
      "text/html": [
       "<div>\n",
       "<style scoped>\n",
       "    .dataframe tbody tr th:only-of-type {\n",
       "        vertical-align: middle;\n",
       "    }\n",
       "\n",
       "    .dataframe tbody tr th {\n",
       "        vertical-align: top;\n",
       "    }\n",
       "\n",
       "    .dataframe thead th {\n",
       "        text-align: right;\n",
       "    }\n",
       "</style>\n",
       "<table border=\"1\" class=\"dataframe\">\n",
       "  <thead>\n",
       "    <tr style=\"text-align: right;\">\n",
       "      <th></th>\n",
       "      <th>Total</th>\n",
       "      <th>Percent</th>\n",
       "    </tr>\n",
       "  </thead>\n",
       "  <tbody>\n",
       "    <tr>\n",
       "      <th>character</th>\n",
       "      <td>0</td>\n",
       "      <td>0.0</td>\n",
       "    </tr>\n",
       "    <tr>\n",
       "      <th>value</th>\n",
       "      <td>0</td>\n",
       "      <td>0.0</td>\n",
       "    </tr>\n",
       "    <tr>\n",
       "      <th>code</th>\n",
       "      <td>0</td>\n",
       "      <td>0.0</td>\n",
       "    </tr>\n",
       "    <tr>\n",
       "      <th>sample_id</th>\n",
       "      <td>0</td>\n",
       "      <td>0.0</td>\n",
       "    </tr>\n",
       "    <tr>\n",
       "      <th>suite_id</th>\n",
       "      <td>0</td>\n",
       "      <td>0.0</td>\n",
       "    </tr>\n",
       "  </tbody>\n",
       "</table>\n",
       "</div>"
      ],
      "text/plain": [
       "           Total  Percent\n",
       "character      0      0.0\n",
       "value          0      0.0\n",
       "code           0      0.0\n",
       "sample_id      0      0.0\n",
       "suite_id       0      0.0"
      ]
     },
     "execution_count": 154,
     "metadata": {},
     "output_type": "execute_result"
    }
   ],
   "source": [
    "# check for missing data (note: may be mislabeled or other errors)\n",
    "def missing_data(data):\n",
    "    total = data.isnull().sum().sort_values(ascending = False)\n",
    "    percent = (data.isnull().sum()/data.isnull().count()*100).sort_values(ascending = False)\n",
    "    return pd.concat([total, percent], axis=1, keys=['Total', 'Percent'])\n",
    "missing_data(data_df)"
   ]
  },
  {
   "cell_type": "code",
   "execution_count": 155,
   "metadata": {},
   "outputs": [
    {
     "name": "stdout",
     "output_type": "stream",
     "text": [
      "Number of image files: 15000\n"
     ]
    }
   ],
   "source": [
    "# check the image data\n",
    "image_files = list(os.listdir(IMAGE_PATH))\n",
    "print(\"Number of image files: {}\".format(len(image_files)))"
   ]
  },
  {
   "cell_type": "code",
   "execution_count": 156,
   "metadata": {},
   "outputs": [
    {
     "name": "stdout",
     "output_type": "stream",
     "text": [
      "Matching image names: 15000\n"
     ]
    }
   ],
   "source": [
    "# check that each line in the dataset has a corresponding image\n",
    "def create_file_name(x):\n",
    "    \n",
    "    file_name = f\"input_{x[0]}_{x[1]}_{x[2]}.jpg\"\n",
    "    return file_name\n",
    "data_df[\"file\"] = data_df.apply(create_file_name, axis=1)\n",
    "file_names = list(data_df['file'])\n",
    "\n",
    "print(\"Matching image names: {}\".format(len(set(file_names).intersection(image_files))))"
   ]
  },
  {
   "cell_type": "code",
   "execution_count": 157,
   "metadata": {},
   "outputs": [
    {
     "data": {
      "text/html": [
       "<div>\n",
       "<style scoped>\n",
       "    .dataframe tbody tr th:only-of-type {\n",
       "        vertical-align: middle;\n",
       "    }\n",
       "\n",
       "    .dataframe tbody tr th {\n",
       "        vertical-align: top;\n",
       "    }\n",
       "\n",
       "    .dataframe thead th {\n",
       "        text-align: right;\n",
       "    }\n",
       "</style>\n",
       "<table border=\"1\" class=\"dataframe\">\n",
       "  <thead>\n",
       "    <tr style=\"text-align: right;\">\n",
       "      <th></th>\n",
       "      <th>suite_id</th>\n",
       "      <th>sample_id</th>\n",
       "      <th>code</th>\n",
       "      <th>value</th>\n",
       "      <th>character</th>\n",
       "      <th>file</th>\n",
       "      <th>w</th>\n",
       "      <th>h</th>\n",
       "    </tr>\n",
       "  </thead>\n",
       "  <tbody>\n",
       "    <tr>\n",
       "      <th>0</th>\n",
       "      <td>1</td>\n",
       "      <td>1</td>\n",
       "      <td>10</td>\n",
       "      <td>9</td>\n",
       "      <td>九</td>\n",
       "      <td>input_1_1_10.jpg</td>\n",
       "      <td>64</td>\n",
       "      <td>64</td>\n",
       "    </tr>\n",
       "    <tr>\n",
       "      <th>1</th>\n",
       "      <td>1</td>\n",
       "      <td>10</td>\n",
       "      <td>10</td>\n",
       "      <td>9</td>\n",
       "      <td>九</td>\n",
       "      <td>input_1_10_10.jpg</td>\n",
       "      <td>64</td>\n",
       "      <td>64</td>\n",
       "    </tr>\n",
       "    <tr>\n",
       "      <th>2</th>\n",
       "      <td>1</td>\n",
       "      <td>2</td>\n",
       "      <td>10</td>\n",
       "      <td>9</td>\n",
       "      <td>九</td>\n",
       "      <td>input_1_2_10.jpg</td>\n",
       "      <td>64</td>\n",
       "      <td>64</td>\n",
       "    </tr>\n",
       "    <tr>\n",
       "      <th>3</th>\n",
       "      <td>1</td>\n",
       "      <td>3</td>\n",
       "      <td>10</td>\n",
       "      <td>9</td>\n",
       "      <td>九</td>\n",
       "      <td>input_1_3_10.jpg</td>\n",
       "      <td>64</td>\n",
       "      <td>64</td>\n",
       "    </tr>\n",
       "    <tr>\n",
       "      <th>4</th>\n",
       "      <td>1</td>\n",
       "      <td>4</td>\n",
       "      <td>10</td>\n",
       "      <td>9</td>\n",
       "      <td>九</td>\n",
       "      <td>input_1_4_10.jpg</td>\n",
       "      <td>64</td>\n",
       "      <td>64</td>\n",
       "    </tr>\n",
       "  </tbody>\n",
       "</table>\n",
       "</div>"
      ],
      "text/plain": [
       "   suite_id  sample_id  code  value character               file   w   h\n",
       "0         1          1    10      9         九   input_1_1_10.jpg  64  64\n",
       "1         1         10    10      9         九  input_1_10_10.jpg  64  64\n",
       "2         1          2    10      9         九   input_1_2_10.jpg  64  64\n",
       "3         1          3    10      9         九   input_1_3_10.jpg  64  64\n",
       "4         1          4    10      9         九   input_1_4_10.jpg  64  64"
      ]
     },
     "execution_count": 157,
     "metadata": {},
     "output_type": "execute_result"
    }
   ],
   "source": [
    "# check image sizes\n",
    "def read_image_sizes(file_name):\n",
    "    image = skimage.io.imread(IMAGE_PATH + file_name)\n",
    "    return list(image.shape)\n",
    "\n",
    "m = np.stack(data_df['file'].apply(read_image_sizes))\n",
    "df = pd.DataFrame(m,columns=['w','h'])\n",
    "data_df = pd.concat([data_df,df],axis=1, sort=False)\n",
    "\n",
    "data_df.head()"
   ]
  },
  {
   "cell_type": "code",
   "execution_count": 158,
   "metadata": {},
   "outputs": [
    {
     "name": "stdout",
     "output_type": "stream",
     "text": [
      "Number of suites: 100\n",
      "Samples: [ 1 10  2  3  4  5  6  7  8  9]\n"
     ]
    }
   ],
   "source": [
    "# check the suites of the images\n",
    "print(f\"Number of suites: {data_df.suite_id.nunique()}\")\n",
    "print(f\"Samples: {data_df.sample_id.unique()}\")"
   ]
  },
  {
   "cell_type": "code",
   "execution_count": 159,
   "metadata": {},
   "outputs": [],
   "source": [
    "# split the dataset into training and test set (80% training set, 20% test set), RANDOM_STATE ensure reproducibility\n",
    "train_df, test_df = train_test_split(data_df, test_size=TEST_SIZE, random_state=RANDOM_STATE, stratify=data_df[\"code\"].values)"
   ]
  },
  {
   "cell_type": "code",
   "execution_count": 160,
   "metadata": {},
   "outputs": [],
   "source": [
    "# further split the training set into training (80%) and validation (20%) sets\n",
    "train_df, val_df = train_test_split(train_df, test_size=VAL_SIZE, random_state=RANDOM_STATE, stratify=train_df[\"code\"].values)"
   ]
  },
  {
   "cell_type": "code",
   "execution_count": 161,
   "metadata": {},
   "outputs": [
    {
     "name": "stdout",
     "output_type": "stream",
     "text": [
      "Train set rows: 9600\n",
      "Test  set rows: 3000\n",
      "Val   set rows: 2400\n"
     ]
    }
   ],
   "source": [
    "# make sure it was done correctly\n",
    "print(\"Train set rows: {}\".format(train_df.shape[0]))\n",
    "print(\"Test  set rows: {}\".format(test_df.shape[0]))\n",
    "print(\"Val   set rows: {}\".format(val_df.shape[0]))"
   ]
  },
  {
   "cell_type": "code",
   "execution_count": 162,
   "metadata": {},
   "outputs": [],
   "source": [
    "# function for rading images, scale to 100 x 100 x 3 (channels)\n",
    "def read_image(file_name):\n",
    "    image = skimage.io.imread(IMAGE_PATH + file_name)\n",
    "    image = skimage.transform.resize(image, (IMAGE_WIDTH, IMAGE_HEIGHT, 1), mode='reflect')\n",
    "    return image[:,:,:]"
   ]
  },
  {
   "cell_type": "code",
   "execution_count": 163,
   "metadata": {},
   "outputs": [],
   "source": [
    "# function to create dummy variables corresponding to categorical target variable\n",
    "def categories_encoder(dataset, var='character'):\n",
    "    X = np.stack(dataset['file'].apply(read_image))\n",
    "    y = pd.get_dummies(dataset[var], drop_first=False)\n",
    "    return X, y"
   ]
  },
  {
   "cell_type": "code",
   "execution_count": 164,
   "metadata": {},
   "outputs": [],
   "source": [
    "# populate the training, validation, and test sets with image data \n",
    "# and create dummy varibales corresponding to the categorical target variable (subspecies)\n",
    "X_train, y_train = categories_encoder(train_df)\n",
    "X_val, y_val = categories_encoder(val_df)\n",
    "X_test, y_test = categories_encoder(test_df)"
   ]
  },
  {
   "cell_type": "code",
   "execution_count": 165,
   "metadata": {},
   "outputs": [
    {
     "name": "stdout",
     "output_type": "stream",
     "text": [
      "Model: \"sequential_5\"\n",
      "_________________________________________________________________\n",
      "Layer (type)                 Output Shape              Param #   \n",
      "=================================================================\n",
      "conv2d_20 (Conv2D)           (None, 64, 64, 16)        160       \n",
      "_________________________________________________________________\n",
      "conv2d_21 (Conv2D)           (None, 64, 64, 16)        2320      \n",
      "_________________________________________________________________\n",
      "max_pooling2d_5 (MaxPooling2 (None, 32, 32, 16)        0         \n",
      "_________________________________________________________________\n",
      "dropout_10 (Dropout)         (None, 32, 32, 16)        0         \n",
      "_________________________________________________________________\n",
      "conv2d_22 (Conv2D)           (None, 32, 32, 16)        2320      \n",
      "_________________________________________________________________\n",
      "conv2d_23 (Conv2D)           (None, 32, 32, 16)        2320      \n",
      "_________________________________________________________________\n",
      "dropout_11 (Dropout)         (None, 32, 32, 16)        0         \n",
      "_________________________________________________________________\n",
      "flatten_5 (Flatten)          (None, 16384)             0         \n",
      "_________________________________________________________________\n",
      "dense_5 (Dense)              (None, 15)                245775    \n",
      "=================================================================\n",
      "Total params: 252,895\n",
      "Trainable params: 252,895\n",
      "Non-trainable params: 0\n",
      "_________________________________________________________________\n"
     ]
    }
   ],
   "source": [
    "# create model and print out summary\n",
    "model=Sequential()\n",
    "model.add(Conv2D(CONV_2D_DIM_1, kernel_size=KERNEL_SIZE, input_shape=(IMAGE_WIDTH, IMAGE_HEIGHT,IMAGE_CHANNELS), activation='relu', padding='same'))\n",
    "model.add(Conv2D(CONV_2D_DIM_2, kernel_size=KERNEL_SIZE, activation='relu', padding='same'))\n",
    "model.add(MaxPool2D(MAX_POOL_DIM))\n",
    "model.add(Dropout(DROPOUT_RATIO))\n",
    "model.add(Conv2D(CONV_2D_DIM_2, kernel_size=KERNEL_SIZE, activation='relu', padding='same'))\n",
    "model.add(Conv2D(CONV_2D_DIM_2, kernel_size=KERNEL_SIZE, activation='relu', padding='same'))\n",
    "model.add(Dropout(DROPOUT_RATIO))\n",
    "model.add(Flatten())\n",
    "model.add(Dense(y_train.columns.size, activation='softmax'))\n",
    "model.compile(optimizer='adam', loss='categorical_crossentropy', metrics=['accuracy'])\n",
    "model.summary()"
   ]
  },
  {
   "cell_type": "code",
   "execution_count": 166,
   "metadata": {},
   "outputs": [],
   "source": [
    "# predefined epoch number (50 steps) and a learning function with variable learning rate that depends on epoch number\n",
    "# At each training epoch, we evaluate valiation error and decide to stop training or continue (predestined \"patience\"\n",
    "# factor to stop if validation is not improving after 5 step). We load the best model and use it for test set prediction\n",
    "annealer = LearningRateScheduler(lambda x: 1e-3 * 0.99 ** (x+NO_EPOCHS))\n",
    "earlystopper = EarlyStopping(monitor='loss', patience=PATIENCE, verbose=VERBOSE)\n",
    "checkpointer = ModelCheckpoint('best_model.h5',\n",
    "                                monitor='val_accuracy',\n",
    "                                verbose=VERBOSE,\n",
    "                                save_best_only=True,\n",
    "                                save_weights_only=True)"
   ]
  },
  {
   "cell_type": "code",
   "execution_count": 170,
   "metadata": {},
   "outputs": [
    {
     "name": "stdout",
     "output_type": "stream",
     "text": [
      "Epoch 1/50\n",
      "  1/300 [..............................] - ETA: 0s - loss: 0.1179 - accuracy: 0.9375WARNING:tensorflow:Callbacks method `on_train_batch_end` is slow compared to the batch time (batch time: 0.0023s vs `on_train_batch_end` time: 0.0051s). Check your callbacks.\n",
      "296/300 [============================>.] - ETA: 0s - loss: 0.0508 - accuracy: 0.9827\n",
      "Epoch 00001: val_accuracy did not improve from 0.97375\n",
      "300/300 [==============================] - 2s 5ms/step - loss: 0.0510 - accuracy: 0.9827 - val_loss: 0.1853 - val_accuracy: 0.9621\n",
      "Epoch 2/50\n",
      "300/300 [==============================] - ETA: 0s - loss: 0.0526 - accuracy: 0.9809\n",
      "Epoch 00002: val_accuracy did not improve from 0.97375\n",
      "300/300 [==============================] - 1s 4ms/step - loss: 0.0526 - accuracy: 0.9809 - val_loss: 0.1521 - val_accuracy: 0.9629\n",
      "Epoch 3/50\n",
      "300/300 [==============================] - ETA: 0s - loss: 0.0451 - accuracy: 0.9843\n",
      "Epoch 00003: val_accuracy did not improve from 0.97375\n",
      "300/300 [==============================] - 1s 4ms/step - loss: 0.0451 - accuracy: 0.9843 - val_loss: 0.1499 - val_accuracy: 0.9696\n",
      "Epoch 4/50\n",
      "300/300 [==============================] - ETA: 0s - loss: 0.0489 - accuracy: 0.9831\n",
      "Epoch 00004: val_accuracy did not improve from 0.97375\n",
      "300/300 [==============================] - 1s 4ms/step - loss: 0.0489 - accuracy: 0.9831 - val_loss: 0.1405 - val_accuracy: 0.9737\n",
      "Epoch 5/50\n",
      "299/300 [============================>.] - ETA: 0s - loss: 0.0386 - accuracy: 0.9876\n",
      "Epoch 00005: val_accuracy improved from 0.97375 to 0.97458, saving model to best_model.h5\n",
      "300/300 [==============================] - 1s 5ms/step - loss: 0.0389 - accuracy: 0.9875 - val_loss: 0.1448 - val_accuracy: 0.9746\n",
      "Epoch 6/50\n",
      "300/300 [==============================] - ETA: 0s - loss: 0.0397 - accuracy: 0.9860\n",
      "Epoch 00006: val_accuracy did not improve from 0.97458\n",
      "300/300 [==============================] - 1s 4ms/step - loss: 0.0397 - accuracy: 0.9860 - val_loss: 0.1468 - val_accuracy: 0.9679\n",
      "Epoch 7/50\n",
      "300/300 [==============================] - ETA: 0s - loss: 0.0456 - accuracy: 0.9836\n",
      "Epoch 00007: val_accuracy did not improve from 0.97458\n",
      "300/300 [==============================] - 1s 4ms/step - loss: 0.0456 - accuracy: 0.9836 - val_loss: 0.1573 - val_accuracy: 0.9654\n",
      "Epoch 8/50\n",
      "300/300 [==============================] - ETA: 0s - loss: 0.0411 - accuracy: 0.9855\n",
      "Epoch 00008: val_accuracy did not improve from 0.97458\n",
      "300/300 [==============================] - 1s 4ms/step - loss: 0.0411 - accuracy: 0.9855 - val_loss: 0.1501 - val_accuracy: 0.9708\n",
      "Epoch 9/50\n",
      "300/300 [==============================] - ETA: 0s - loss: 0.0364 - accuracy: 0.9865\n",
      "Epoch 00009: val_accuracy did not improve from 0.97458\n",
      "300/300 [==============================] - 1s 4ms/step - loss: 0.0364 - accuracy: 0.9865 - val_loss: 0.1605 - val_accuracy: 0.9696\n",
      "Epoch 10/50\n",
      "300/300 [==============================] - ETA: 0s - loss: 0.0541 - accuracy: 0.9820\n",
      "Epoch 00010: val_accuracy did not improve from 0.97458\n",
      "300/300 [==============================] - 1s 4ms/step - loss: 0.0541 - accuracy: 0.9820 - val_loss: 0.1429 - val_accuracy: 0.9737\n",
      "Epoch 11/50\n",
      "300/300 [==============================] - ETA: 0s - loss: 0.0424 - accuracy: 0.9867\n",
      "Epoch 00011: val_accuracy did not improve from 0.97458\n",
      "300/300 [==============================] - 1s 4ms/step - loss: 0.0424 - accuracy: 0.9867 - val_loss: 0.1616 - val_accuracy: 0.9708\n",
      "Epoch 12/50\n",
      "300/300 [==============================] - ETA: 0s - loss: 0.0374 - accuracy: 0.9868\n",
      "Epoch 00012: val_accuracy did not improve from 0.97458\n",
      "300/300 [==============================] - 1s 4ms/step - loss: 0.0374 - accuracy: 0.9868 - val_loss: 0.1706 - val_accuracy: 0.9688\n",
      "Epoch 13/50\n",
      "300/300 [==============================] - ETA: 0s - loss: 0.0436 - accuracy: 0.9850\n",
      "Epoch 00013: val_accuracy did not improve from 0.97458\n",
      "300/300 [==============================] - 1s 4ms/step - loss: 0.0436 - accuracy: 0.9850 - val_loss: 0.1412 - val_accuracy: 0.9742\n",
      "Epoch 14/50\n",
      "300/300 [==============================] - ETA: 0s - loss: 0.0333 - accuracy: 0.9887\n",
      "Epoch 00014: val_accuracy did not improve from 0.97458\n",
      "300/300 [==============================] - 1s 4ms/step - loss: 0.0333 - accuracy: 0.9887 - val_loss: 0.1435 - val_accuracy: 0.9712\n",
      "Epoch 15/50\n",
      "300/300 [==============================] - ETA: 0s - loss: 0.0378 - accuracy: 0.9872\n",
      "Epoch 00015: val_accuracy did not improve from 0.97458\n",
      "300/300 [==============================] - 1s 4ms/step - loss: 0.0378 - accuracy: 0.9872 - val_loss: 0.1544 - val_accuracy: 0.9675\n",
      "Epoch 16/50\n",
      "300/300 [==============================] - ETA: 0s - loss: 0.0313 - accuracy: 0.9895\n",
      "Epoch 00016: val_accuracy did not improve from 0.97458\n",
      "300/300 [==============================] - 1s 4ms/step - loss: 0.0313 - accuracy: 0.9895 - val_loss: 0.1579 - val_accuracy: 0.9688\n",
      "Epoch 17/50\n",
      "300/300 [==============================] - ETA: 0s - loss: 0.0360 - accuracy: 0.9883\n",
      "Epoch 00017: val_accuracy did not improve from 0.97458\n",
      "300/300 [==============================] - 1s 4ms/step - loss: 0.0360 - accuracy: 0.9883 - val_loss: 0.1495 - val_accuracy: 0.9688\n",
      "Epoch 18/50\n",
      "300/300 [==============================] - ETA: 0s - loss: 0.0335 - accuracy: 0.9893\n",
      "Epoch 00018: val_accuracy improved from 0.97458 to 0.97583, saving model to best_model.h5\n",
      "300/300 [==============================] - 1s 4ms/step - loss: 0.0335 - accuracy: 0.9893 - val_loss: 0.1432 - val_accuracy: 0.9758\n",
      "Epoch 19/50\n",
      "300/300 [==============================] - ETA: 0s - loss: 0.0345 - accuracy: 0.9879\n",
      "Epoch 00019: val_accuracy did not improve from 0.97583\n",
      "300/300 [==============================] - 1s 4ms/step - loss: 0.0345 - accuracy: 0.9879 - val_loss: 0.1381 - val_accuracy: 0.9733\n",
      "Epoch 20/50\n",
      "300/300 [==============================] - ETA: 0s - loss: 0.0302 - accuracy: 0.9901\n",
      "Epoch 00020: val_accuracy did not improve from 0.97583\n",
      "300/300 [==============================] - 1s 4ms/step - loss: 0.0302 - accuracy: 0.9901 - val_loss: 0.1387 - val_accuracy: 0.9758\n",
      "Epoch 21/50\n",
      "300/300 [==============================] - ETA: 0s - loss: 0.0310 - accuracy: 0.9903\n",
      "Epoch 00021: val_accuracy did not improve from 0.97583\n",
      "300/300 [==============================] - 1s 4ms/step - loss: 0.0310 - accuracy: 0.9903 - val_loss: 0.1702 - val_accuracy: 0.9688\n",
      "Epoch 22/50\n",
      "300/300 [==============================] - ETA: 0s - loss: 0.0313 - accuracy: 0.9900\n",
      "Epoch 00022: val_accuracy did not improve from 0.97583\n",
      "300/300 [==============================] - 1s 4ms/step - loss: 0.0313 - accuracy: 0.9900 - val_loss: 0.1562 - val_accuracy: 0.9746\n",
      "Epoch 23/50\n",
      "300/300 [==============================] - ETA: 0s - loss: 0.0298 - accuracy: 0.9907\n",
      "Epoch 00023: val_accuracy improved from 0.97583 to 0.97667, saving model to best_model.h5\n",
      "300/300 [==============================] - 1s 4ms/step - loss: 0.0298 - accuracy: 0.9907 - val_loss: 0.1339 - val_accuracy: 0.9767\n",
      "Epoch 24/50\n",
      "299/300 [============================>.] - ETA: 0s - loss: 0.0316 - accuracy: 0.9892\n",
      "Epoch 00024: val_accuracy did not improve from 0.97667\n",
      "300/300 [==============================] - 1s 4ms/step - loss: 0.0319 - accuracy: 0.9892 - val_loss: 0.1349 - val_accuracy: 0.9746\n",
      "Epoch 25/50\n",
      "299/300 [============================>.] - ETA: 0s - loss: 0.0256 - accuracy: 0.9916\n",
      "Epoch 00025: val_accuracy did not improve from 0.97667\n",
      "300/300 [==============================] - 1s 4ms/step - loss: 0.0255 - accuracy: 0.9917 - val_loss: 0.1467 - val_accuracy: 0.9733\n",
      "Epoch 26/50\n",
      "300/300 [==============================] - ETA: 0s - loss: 0.0274 - accuracy: 0.9919\n",
      "Epoch 00026: val_accuracy did not improve from 0.97667\n",
      "300/300 [==============================] - 1s 4ms/step - loss: 0.0274 - accuracy: 0.9919 - val_loss: 0.1458 - val_accuracy: 0.9700\n",
      "Epoch 27/50\n",
      "300/300 [==============================] - ETA: 0s - loss: 0.0285 - accuracy: 0.9909\n",
      "Epoch 00027: val_accuracy did not improve from 0.97667\n",
      "300/300 [==============================] - 1s 4ms/step - loss: 0.0285 - accuracy: 0.9909 - val_loss: 0.1321 - val_accuracy: 0.9758\n",
      "Epoch 28/50\n",
      "300/300 [==============================] - ETA: 0s - loss: 0.0201 - accuracy: 0.9936\n",
      "Epoch 00028: val_accuracy did not improve from 0.97667\n",
      "300/300 [==============================] - 1s 4ms/step - loss: 0.0201 - accuracy: 0.9936 - val_loss: 0.1412 - val_accuracy: 0.9746\n",
      "Epoch 29/50\n",
      "300/300 [==============================] - ETA: 0s - loss: 0.0303 - accuracy: 0.9903\n",
      "Epoch 00029: val_accuracy did not improve from 0.97667\n",
      "300/300 [==============================] - 1s 4ms/step - loss: 0.0303 - accuracy: 0.9903 - val_loss: 0.1561 - val_accuracy: 0.9733\n",
      "Epoch 30/50\n",
      "300/300 [==============================] - ETA: 0s - loss: 0.0262 - accuracy: 0.9920\n",
      "Epoch 00030: val_accuracy did not improve from 0.97667\n",
      "300/300 [==============================] - 1s 4ms/step - loss: 0.0262 - accuracy: 0.9920 - val_loss: 0.1377 - val_accuracy: 0.9758\n",
      "Epoch 31/50\n",
      "300/300 [==============================] - ETA: 0s - loss: 0.0295 - accuracy: 0.9911\n",
      "Epoch 00031: val_accuracy improved from 0.97667 to 0.97750, saving model to best_model.h5\n",
      "300/300 [==============================] - 1s 4ms/step - loss: 0.0295 - accuracy: 0.9911 - val_loss: 0.1414 - val_accuracy: 0.9775\n",
      "Epoch 32/50\n",
      "300/300 [==============================] - ETA: 0s - loss: 0.0239 - accuracy: 0.9907\n",
      "Epoch 00032: val_accuracy did not improve from 0.97750\n",
      "300/300 [==============================] - 1s 4ms/step - loss: 0.0239 - accuracy: 0.9907 - val_loss: 0.1435 - val_accuracy: 0.9767\n",
      "Epoch 33/50\n",
      "300/300 [==============================] - ETA: 0s - loss: 0.0272 - accuracy: 0.9910\n",
      "Epoch 00033: val_accuracy did not improve from 0.97750\n",
      "300/300 [==============================] - 1s 4ms/step - loss: 0.0272 - accuracy: 0.9910 - val_loss: 0.1374 - val_accuracy: 0.9767\n",
      "Epoch 00033: early stopping\n"
     ]
    }
   ],
   "source": [
    "# train the model\n",
    "train_model  = model.fit(X_train, y_train,\n",
    "                  batch_size=BATCH_SIZE,\n",
    "                  epochs=NO_EPOCHS,\n",
    "                  verbose=1,\n",
    "                  validation_data=(X_val, y_val),\n",
    "                  callbacks=[earlystopper, checkpointer, annealer])"
   ]
  },
  {
   "cell_type": "code",
   "execution_count": 171,
   "metadata": {},
   "outputs": [
    {
     "data": {
      "application/vnd.plotly.v1+json": {
       "config": {
        "linkText": "Export to plot.ly",
        "plotlyServerURL": "https://plot.ly",
        "showLink": false
       },
       "data": [
        {
         "marker": {
          "color": "Green"
         },
         "mode": "markers+lines",
         "name": "Training accuracy",
         "text": [
          "1",
          "2",
          "3",
          "4",
          "5",
          "6",
          "7",
          "8",
          "9",
          "10",
          "11",
          "12",
          "13",
          "14",
          "15",
          "16",
          "17",
          "18",
          "19",
          "20",
          "21",
          "22",
          "23",
          "24",
          "25",
          "26",
          "27",
          "28",
          "29",
          "30",
          "31",
          "32",
          "33"
         ],
         "type": "scatter",
         "x": [
          1,
          2,
          3,
          4,
          5,
          6,
          7,
          8,
          9,
          10,
          11,
          12,
          13,
          14,
          15,
          16,
          17,
          18,
          19,
          20,
          21,
          22,
          23,
          24,
          25,
          26,
          27,
          28,
          29,
          30,
          31,
          32,
          33
         ],
         "xaxis": "x",
         "y": [
          0.9827083349227905,
          0.9809374809265137,
          0.9842708110809326,
          0.9831249713897705,
          0.987500011920929,
          0.9860416650772095,
          0.9836458563804626,
          0.9855208396911621,
          0.9864583611488342,
          0.9819791913032532,
          0.9866666793823242,
          0.9867708086967468,
          0.9850000143051147,
          0.9887499809265137,
          0.9871875047683716,
          0.9894791841506958,
          0.9883333444595337,
          0.989270806312561,
          0.9879166483879089,
          0.9901041388511658,
          0.9903125166893005,
          0.9900000095367432,
          0.9907291531562805,
          0.9891666769981384,
          0.9916666746139526,
          0.9918749928474426,
          0.9909374713897705,
          0.9936458468437195,
          0.9903125166893005,
          0.99197918176651,
          0.9911458492279053,
          0.9907291531562805,
          0.9910416603088379
         ],
         "yaxis": "y"
        },
        {
         "marker": {
          "color": "Red"
         },
         "mode": "markers+lines",
         "name": "Validation accuracy",
         "text": [
          "1",
          "2",
          "3",
          "4",
          "5",
          "6",
          "7",
          "8",
          "9",
          "10",
          "11",
          "12",
          "13",
          "14",
          "15",
          "16",
          "17",
          "18",
          "19",
          "20",
          "21",
          "22",
          "23",
          "24",
          "25",
          "26",
          "27",
          "28",
          "29",
          "30",
          "31",
          "32",
          "33"
         ],
         "type": "scatter",
         "x": [
          1,
          2,
          3,
          4,
          5,
          6,
          7,
          8,
          9,
          10,
          11,
          12,
          13,
          14,
          15,
          16,
          17,
          18,
          19,
          20,
          21,
          22,
          23,
          24,
          25,
          26,
          27,
          28,
          29,
          30,
          31,
          32,
          33
         ],
         "xaxis": "x",
         "y": [
          0.9620833396911621,
          0.9629166722297668,
          0.9695833325386047,
          0.9737499952316284,
          0.9745833277702332,
          0.9679166674613953,
          0.965416669845581,
          0.9708333611488342,
          0.9695833325386047,
          0.9737499952316284,
          0.9708333611488342,
          0.96875,
          0.9741666913032532,
          0.9712499976158142,
          0.9674999713897705,
          0.96875,
          0.96875,
          0.9758333563804626,
          0.9733333587646484,
          0.9758333563804626,
          0.96875,
          0.9745833277702332,
          0.9766666889190674,
          0.9745833277702332,
          0.9733333587646484,
          0.9700000286102295,
          0.9758333563804626,
          0.9745833277702332,
          0.9733333587646484,
          0.9758333563804626,
          0.9775000214576721,
          0.9766666889190674,
          0.9766666889190674
         ],
         "yaxis": "y"
        },
        {
         "marker": {
          "color": "Blue"
         },
         "mode": "markers+lines",
         "name": "Training loss",
         "text": [
          "1",
          "2",
          "3",
          "4",
          "5",
          "6",
          "7",
          "8",
          "9",
          "10",
          "11",
          "12",
          "13",
          "14",
          "15",
          "16",
          "17",
          "18",
          "19",
          "20",
          "21",
          "22",
          "23",
          "24",
          "25",
          "26",
          "27",
          "28",
          "29",
          "30",
          "31",
          "32",
          "33"
         ],
         "type": "scatter",
         "x": [
          1,
          2,
          3,
          4,
          5,
          6,
          7,
          8,
          9,
          10,
          11,
          12,
          13,
          14,
          15,
          16,
          17,
          18,
          19,
          20,
          21,
          22,
          23,
          24,
          25,
          26,
          27,
          28,
          29,
          30,
          31,
          32,
          33
         ],
         "xaxis": "x2",
         "y": [
          0.05098729580640793,
          0.052573058754205704,
          0.04514273628592491,
          0.048942431807518005,
          0.0388791598379612,
          0.039733488112688065,
          0.045566000044345856,
          0.04107513278722763,
          0.03639499843120575,
          0.054148972034454346,
          0.04240654036402702,
          0.03743673861026764,
          0.04357651621103287,
          0.03327987343072891,
          0.03778187558054924,
          0.031261324882507324,
          0.0359838493168354,
          0.03353164345026016,
          0.03451504558324814,
          0.030174897983670235,
          0.030978094786405563,
          0.03127257898449898,
          0.029760802164673805,
          0.031899627298116684,
          0.025543250143527985,
          0.027414511889219284,
          0.028518855571746826,
          0.020124375820159912,
          0.03029555268585682,
          0.026157546788454056,
          0.029453134164214134,
          0.023881006985902786,
          0.027154797688126564
         ],
         "yaxis": "y2"
        },
        {
         "marker": {
          "color": "Magenta"
         },
         "mode": "markers+lines",
         "name": "Validation loss",
         "text": [
          "1",
          "2",
          "3",
          "4",
          "5",
          "6",
          "7",
          "8",
          "9",
          "10",
          "11",
          "12",
          "13",
          "14",
          "15",
          "16",
          "17",
          "18",
          "19",
          "20",
          "21",
          "22",
          "23",
          "24",
          "25",
          "26",
          "27",
          "28",
          "29",
          "30",
          "31",
          "32",
          "33"
         ],
         "type": "scatter",
         "x": [
          1,
          2,
          3,
          4,
          5,
          6,
          7,
          8,
          9,
          10,
          11,
          12,
          13,
          14,
          15,
          16,
          17,
          18,
          19,
          20,
          21,
          22,
          23,
          24,
          25,
          26,
          27,
          28,
          29,
          30,
          31,
          32,
          33
         ],
         "xaxis": "x2",
         "y": [
          0.18527932465076447,
          0.1520719826221466,
          0.14994308352470398,
          0.14052137732505798,
          0.14484982192516327,
          0.14682817459106445,
          0.15726527571678162,
          0.15011073648929596,
          0.16052551567554474,
          0.14290250837802887,
          0.16162365674972534,
          0.17063674330711365,
          0.14124570786952972,
          0.14349889755249023,
          0.1543794721364975,
          0.15791356563568115,
          0.14945311844348907,
          0.14315856993198395,
          0.13811352849006653,
          0.1386919617652893,
          0.1701810657978058,
          0.15616455674171448,
          0.13386204838752747,
          0.13488821685314178,
          0.14671216905117035,
          0.1458398699760437,
          0.1321272999048233,
          0.1412116140127182,
          0.15608595311641693,
          0.13765846192836761,
          0.14141105115413666,
          0.1434941291809082,
          0.13744090497493744
         ],
         "yaxis": "y2"
        }
       ],
       "layout": {
        "annotations": [
         {
          "font": {
           "size": 16
          },
          "showarrow": false,
          "text": "Training and validation accuracy",
          "x": 0.225,
          "xanchor": "center",
          "xref": "paper",
          "y": 1,
          "yanchor": "bottom",
          "yref": "paper"
         },
         {
          "font": {
           "size": 16
          },
          "showarrow": false,
          "text": "Training and validation loss",
          "x": 0.775,
          "xanchor": "center",
          "xref": "paper",
          "y": 1,
          "yanchor": "bottom",
          "yref": "paper"
         }
        ],
        "template": {
         "data": {
          "bar": [
           {
            "error_x": {
             "color": "#2a3f5f"
            },
            "error_y": {
             "color": "#2a3f5f"
            },
            "marker": {
             "line": {
              "color": "#E5ECF6",
              "width": 0.5
             }
            },
            "type": "bar"
           }
          ],
          "barpolar": [
           {
            "marker": {
             "line": {
              "color": "#E5ECF6",
              "width": 0.5
             }
            },
            "type": "barpolar"
           }
          ],
          "carpet": [
           {
            "aaxis": {
             "endlinecolor": "#2a3f5f",
             "gridcolor": "white",
             "linecolor": "white",
             "minorgridcolor": "white",
             "startlinecolor": "#2a3f5f"
            },
            "baxis": {
             "endlinecolor": "#2a3f5f",
             "gridcolor": "white",
             "linecolor": "white",
             "minorgridcolor": "white",
             "startlinecolor": "#2a3f5f"
            },
            "type": "carpet"
           }
          ],
          "choropleth": [
           {
            "colorbar": {
             "outlinewidth": 0,
             "ticks": ""
            },
            "type": "choropleth"
           }
          ],
          "contour": [
           {
            "colorbar": {
             "outlinewidth": 0,
             "ticks": ""
            },
            "colorscale": [
             [
              0,
              "#0d0887"
             ],
             [
              0.1111111111111111,
              "#46039f"
             ],
             [
              0.2222222222222222,
              "#7201a8"
             ],
             [
              0.3333333333333333,
              "#9c179e"
             ],
             [
              0.4444444444444444,
              "#bd3786"
             ],
             [
              0.5555555555555556,
              "#d8576b"
             ],
             [
              0.6666666666666666,
              "#ed7953"
             ],
             [
              0.7777777777777778,
              "#fb9f3a"
             ],
             [
              0.8888888888888888,
              "#fdca26"
             ],
             [
              1,
              "#f0f921"
             ]
            ],
            "type": "contour"
           }
          ],
          "contourcarpet": [
           {
            "colorbar": {
             "outlinewidth": 0,
             "ticks": ""
            },
            "type": "contourcarpet"
           }
          ],
          "heatmap": [
           {
            "colorbar": {
             "outlinewidth": 0,
             "ticks": ""
            },
            "colorscale": [
             [
              0,
              "#0d0887"
             ],
             [
              0.1111111111111111,
              "#46039f"
             ],
             [
              0.2222222222222222,
              "#7201a8"
             ],
             [
              0.3333333333333333,
              "#9c179e"
             ],
             [
              0.4444444444444444,
              "#bd3786"
             ],
             [
              0.5555555555555556,
              "#d8576b"
             ],
             [
              0.6666666666666666,
              "#ed7953"
             ],
             [
              0.7777777777777778,
              "#fb9f3a"
             ],
             [
              0.8888888888888888,
              "#fdca26"
             ],
             [
              1,
              "#f0f921"
             ]
            ],
            "type": "heatmap"
           }
          ],
          "heatmapgl": [
           {
            "colorbar": {
             "outlinewidth": 0,
             "ticks": ""
            },
            "colorscale": [
             [
              0,
              "#0d0887"
             ],
             [
              0.1111111111111111,
              "#46039f"
             ],
             [
              0.2222222222222222,
              "#7201a8"
             ],
             [
              0.3333333333333333,
              "#9c179e"
             ],
             [
              0.4444444444444444,
              "#bd3786"
             ],
             [
              0.5555555555555556,
              "#d8576b"
             ],
             [
              0.6666666666666666,
              "#ed7953"
             ],
             [
              0.7777777777777778,
              "#fb9f3a"
             ],
             [
              0.8888888888888888,
              "#fdca26"
             ],
             [
              1,
              "#f0f921"
             ]
            ],
            "type": "heatmapgl"
           }
          ],
          "histogram": [
           {
            "marker": {
             "colorbar": {
              "outlinewidth": 0,
              "ticks": ""
             }
            },
            "type": "histogram"
           }
          ],
          "histogram2d": [
           {
            "colorbar": {
             "outlinewidth": 0,
             "ticks": ""
            },
            "colorscale": [
             [
              0,
              "#0d0887"
             ],
             [
              0.1111111111111111,
              "#46039f"
             ],
             [
              0.2222222222222222,
              "#7201a8"
             ],
             [
              0.3333333333333333,
              "#9c179e"
             ],
             [
              0.4444444444444444,
              "#bd3786"
             ],
             [
              0.5555555555555556,
              "#d8576b"
             ],
             [
              0.6666666666666666,
              "#ed7953"
             ],
             [
              0.7777777777777778,
              "#fb9f3a"
             ],
             [
              0.8888888888888888,
              "#fdca26"
             ],
             [
              1,
              "#f0f921"
             ]
            ],
            "type": "histogram2d"
           }
          ],
          "histogram2dcontour": [
           {
            "colorbar": {
             "outlinewidth": 0,
             "ticks": ""
            },
            "colorscale": [
             [
              0,
              "#0d0887"
             ],
             [
              0.1111111111111111,
              "#46039f"
             ],
             [
              0.2222222222222222,
              "#7201a8"
             ],
             [
              0.3333333333333333,
              "#9c179e"
             ],
             [
              0.4444444444444444,
              "#bd3786"
             ],
             [
              0.5555555555555556,
              "#d8576b"
             ],
             [
              0.6666666666666666,
              "#ed7953"
             ],
             [
              0.7777777777777778,
              "#fb9f3a"
             ],
             [
              0.8888888888888888,
              "#fdca26"
             ],
             [
              1,
              "#f0f921"
             ]
            ],
            "type": "histogram2dcontour"
           }
          ],
          "mesh3d": [
           {
            "colorbar": {
             "outlinewidth": 0,
             "ticks": ""
            },
            "type": "mesh3d"
           }
          ],
          "parcoords": [
           {
            "line": {
             "colorbar": {
              "outlinewidth": 0,
              "ticks": ""
             }
            },
            "type": "parcoords"
           }
          ],
          "pie": [
           {
            "automargin": true,
            "type": "pie"
           }
          ],
          "scatter": [
           {
            "marker": {
             "colorbar": {
              "outlinewidth": 0,
              "ticks": ""
             }
            },
            "type": "scatter"
           }
          ],
          "scatter3d": [
           {
            "line": {
             "colorbar": {
              "outlinewidth": 0,
              "ticks": ""
             }
            },
            "marker": {
             "colorbar": {
              "outlinewidth": 0,
              "ticks": ""
             }
            },
            "type": "scatter3d"
           }
          ],
          "scattercarpet": [
           {
            "marker": {
             "colorbar": {
              "outlinewidth": 0,
              "ticks": ""
             }
            },
            "type": "scattercarpet"
           }
          ],
          "scattergeo": [
           {
            "marker": {
             "colorbar": {
              "outlinewidth": 0,
              "ticks": ""
             }
            },
            "type": "scattergeo"
           }
          ],
          "scattergl": [
           {
            "marker": {
             "colorbar": {
              "outlinewidth": 0,
              "ticks": ""
             }
            },
            "type": "scattergl"
           }
          ],
          "scattermapbox": [
           {
            "marker": {
             "colorbar": {
              "outlinewidth": 0,
              "ticks": ""
             }
            },
            "type": "scattermapbox"
           }
          ],
          "scatterpolar": [
           {
            "marker": {
             "colorbar": {
              "outlinewidth": 0,
              "ticks": ""
             }
            },
            "type": "scatterpolar"
           }
          ],
          "scatterpolargl": [
           {
            "marker": {
             "colorbar": {
              "outlinewidth": 0,
              "ticks": ""
             }
            },
            "type": "scatterpolargl"
           }
          ],
          "scatterternary": [
           {
            "marker": {
             "colorbar": {
              "outlinewidth": 0,
              "ticks": ""
             }
            },
            "type": "scatterternary"
           }
          ],
          "surface": [
           {
            "colorbar": {
             "outlinewidth": 0,
             "ticks": ""
            },
            "colorscale": [
             [
              0,
              "#0d0887"
             ],
             [
              0.1111111111111111,
              "#46039f"
             ],
             [
              0.2222222222222222,
              "#7201a8"
             ],
             [
              0.3333333333333333,
              "#9c179e"
             ],
             [
              0.4444444444444444,
              "#bd3786"
             ],
             [
              0.5555555555555556,
              "#d8576b"
             ],
             [
              0.6666666666666666,
              "#ed7953"
             ],
             [
              0.7777777777777778,
              "#fb9f3a"
             ],
             [
              0.8888888888888888,
              "#fdca26"
             ],
             [
              1,
              "#f0f921"
             ]
            ],
            "type": "surface"
           }
          ],
          "table": [
           {
            "cells": {
             "fill": {
              "color": "#EBF0F8"
             },
             "line": {
              "color": "white"
             }
            },
            "header": {
             "fill": {
              "color": "#C8D4E3"
             },
             "line": {
              "color": "white"
             }
            },
            "type": "table"
           }
          ]
         },
         "layout": {
          "annotationdefaults": {
           "arrowcolor": "#2a3f5f",
           "arrowhead": 0,
           "arrowwidth": 1
          },
          "coloraxis": {
           "colorbar": {
            "outlinewidth": 0,
            "ticks": ""
           }
          },
          "colorscale": {
           "diverging": [
            [
             0,
             "#8e0152"
            ],
            [
             0.1,
             "#c51b7d"
            ],
            [
             0.2,
             "#de77ae"
            ],
            [
             0.3,
             "#f1b6da"
            ],
            [
             0.4,
             "#fde0ef"
            ],
            [
             0.5,
             "#f7f7f7"
            ],
            [
             0.6,
             "#e6f5d0"
            ],
            [
             0.7,
             "#b8e186"
            ],
            [
             0.8,
             "#7fbc41"
            ],
            [
             0.9,
             "#4d9221"
            ],
            [
             1,
             "#276419"
            ]
           ],
           "sequential": [
            [
             0,
             "#0d0887"
            ],
            [
             0.1111111111111111,
             "#46039f"
            ],
            [
             0.2222222222222222,
             "#7201a8"
            ],
            [
             0.3333333333333333,
             "#9c179e"
            ],
            [
             0.4444444444444444,
             "#bd3786"
            ],
            [
             0.5555555555555556,
             "#d8576b"
            ],
            [
             0.6666666666666666,
             "#ed7953"
            ],
            [
             0.7777777777777778,
             "#fb9f3a"
            ],
            [
             0.8888888888888888,
             "#fdca26"
            ],
            [
             1,
             "#f0f921"
            ]
           ],
           "sequentialminus": [
            [
             0,
             "#0d0887"
            ],
            [
             0.1111111111111111,
             "#46039f"
            ],
            [
             0.2222222222222222,
             "#7201a8"
            ],
            [
             0.3333333333333333,
             "#9c179e"
            ],
            [
             0.4444444444444444,
             "#bd3786"
            ],
            [
             0.5555555555555556,
             "#d8576b"
            ],
            [
             0.6666666666666666,
             "#ed7953"
            ],
            [
             0.7777777777777778,
             "#fb9f3a"
            ],
            [
             0.8888888888888888,
             "#fdca26"
            ],
            [
             1,
             "#f0f921"
            ]
           ]
          },
          "colorway": [
           "#636efa",
           "#EF553B",
           "#00cc96",
           "#ab63fa",
           "#FFA15A",
           "#19d3f3",
           "#FF6692",
           "#B6E880",
           "#FF97FF",
           "#FECB52"
          ],
          "font": {
           "color": "#2a3f5f"
          },
          "geo": {
           "bgcolor": "white",
           "lakecolor": "white",
           "landcolor": "#E5ECF6",
           "showlakes": true,
           "showland": true,
           "subunitcolor": "white"
          },
          "hoverlabel": {
           "align": "left"
          },
          "hovermode": "closest",
          "mapbox": {
           "style": "light"
          },
          "paper_bgcolor": "white",
          "plot_bgcolor": "#E5ECF6",
          "polar": {
           "angularaxis": {
            "gridcolor": "white",
            "linecolor": "white",
            "ticks": ""
           },
           "bgcolor": "#E5ECF6",
           "radialaxis": {
            "gridcolor": "white",
            "linecolor": "white",
            "ticks": ""
           }
          },
          "scene": {
           "xaxis": {
            "backgroundcolor": "#E5ECF6",
            "gridcolor": "white",
            "gridwidth": 2,
            "linecolor": "white",
            "showbackground": true,
            "ticks": "",
            "zerolinecolor": "white"
           },
           "yaxis": {
            "backgroundcolor": "#E5ECF6",
            "gridcolor": "white",
            "gridwidth": 2,
            "linecolor": "white",
            "showbackground": true,
            "ticks": "",
            "zerolinecolor": "white"
           },
           "zaxis": {
            "backgroundcolor": "#E5ECF6",
            "gridcolor": "white",
            "gridwidth": 2,
            "linecolor": "white",
            "showbackground": true,
            "ticks": "",
            "zerolinecolor": "white"
           }
          },
          "shapedefaults": {
           "line": {
            "color": "#2a3f5f"
           }
          },
          "ternary": {
           "aaxis": {
            "gridcolor": "white",
            "linecolor": "white",
            "ticks": ""
           },
           "baxis": {
            "gridcolor": "white",
            "linecolor": "white",
            "ticks": ""
           },
           "bgcolor": "#E5ECF6",
           "caxis": {
            "gridcolor": "white",
            "linecolor": "white",
            "ticks": ""
           }
          },
          "title": {
           "x": 0.05
          },
          "xaxis": {
           "automargin": true,
           "gridcolor": "white",
           "linecolor": "white",
           "ticks": "",
           "title": {
            "standoff": 15
           },
           "zerolinecolor": "white",
           "zerolinewidth": 2
          },
          "yaxis": {
           "automargin": true,
           "gridcolor": "white",
           "linecolor": "white",
           "ticks": "",
           "title": {
            "standoff": 15
           },
           "zerolinecolor": "white",
           "zerolinewidth": 2
          }
         }
        },
        "xaxis": {
         "anchor": "y",
         "domain": [
          0,
          0.45
         ],
         "title": {
          "text": "Epoch"
         }
        },
        "xaxis2": {
         "anchor": "y2",
         "domain": [
          0.55,
          1
         ],
         "title": {
          "text": "Epoch"
         }
        },
        "yaxis": {
         "anchor": "x",
         "domain": [
          0,
          1
         ],
         "range": [
          0,
          1
         ],
         "title": {
          "text": "Accuracy"
         }
        },
        "yaxis2": {
         "anchor": "x2",
         "domain": [
          0,
          1
         ],
         "range": [
          0,
          1
         ],
         "title": {
          "text": "Loss"
         }
        }
       }
      },
      "text/html": [
       "<div>                            <div id=\"a2ec2a8a-26e5-4f8e-b728-c1f24ec02890\" class=\"plotly-graph-div\" style=\"height:525px; width:100%;\"></div>            <script type=\"text/javascript\">                require([\"plotly\"], function(Plotly) {                    window.PLOTLYENV=window.PLOTLYENV || {};                                    if (document.getElementById(\"a2ec2a8a-26e5-4f8e-b728-c1f24ec02890\")) {                    Plotly.newPlot(                        \"a2ec2a8a-26e5-4f8e-b728-c1f24ec02890\",                        [{\"marker\": {\"color\": \"Green\"}, \"mode\": \"markers+lines\", \"name\": \"Training accuracy\", \"text\": [\"1\", \"2\", \"3\", \"4\", \"5\", \"6\", \"7\", \"8\", \"9\", \"10\", \"11\", \"12\", \"13\", \"14\", \"15\", \"16\", \"17\", \"18\", \"19\", \"20\", \"21\", \"22\", \"23\", \"24\", \"25\", \"26\", \"27\", \"28\", \"29\", \"30\", \"31\", \"32\", \"33\"], \"type\": \"scatter\", \"x\": [1, 2, 3, 4, 5, 6, 7, 8, 9, 10, 11, 12, 13, 14, 15, 16, 17, 18, 19, 20, 21, 22, 23, 24, 25, 26, 27, 28, 29, 30, 31, 32, 33], \"xaxis\": \"x\", \"y\": [0.9827083349227905, 0.9809374809265137, 0.9842708110809326, 0.9831249713897705, 0.987500011920929, 0.9860416650772095, 0.9836458563804626, 0.9855208396911621, 0.9864583611488342, 0.9819791913032532, 0.9866666793823242, 0.9867708086967468, 0.9850000143051147, 0.9887499809265137, 0.9871875047683716, 0.9894791841506958, 0.9883333444595337, 0.989270806312561, 0.9879166483879089, 0.9901041388511658, 0.9903125166893005, 0.9900000095367432, 0.9907291531562805, 0.9891666769981384, 0.9916666746139526, 0.9918749928474426, 0.9909374713897705, 0.9936458468437195, 0.9903125166893005, 0.99197918176651, 0.9911458492279053, 0.9907291531562805, 0.9910416603088379], \"yaxis\": \"y\"}, {\"marker\": {\"color\": \"Red\"}, \"mode\": \"markers+lines\", \"name\": \"Validation accuracy\", \"text\": [\"1\", \"2\", \"3\", \"4\", \"5\", \"6\", \"7\", \"8\", \"9\", \"10\", \"11\", \"12\", \"13\", \"14\", \"15\", \"16\", \"17\", \"18\", \"19\", \"20\", \"21\", \"22\", \"23\", \"24\", \"25\", \"26\", \"27\", \"28\", \"29\", \"30\", \"31\", \"32\", \"33\"], \"type\": \"scatter\", \"x\": [1, 2, 3, 4, 5, 6, 7, 8, 9, 10, 11, 12, 13, 14, 15, 16, 17, 18, 19, 20, 21, 22, 23, 24, 25, 26, 27, 28, 29, 30, 31, 32, 33], \"xaxis\": \"x\", \"y\": [0.9620833396911621, 0.9629166722297668, 0.9695833325386047, 0.9737499952316284, 0.9745833277702332, 0.9679166674613953, 0.965416669845581, 0.9708333611488342, 0.9695833325386047, 0.9737499952316284, 0.9708333611488342, 0.96875, 0.9741666913032532, 0.9712499976158142, 0.9674999713897705, 0.96875, 0.96875, 0.9758333563804626, 0.9733333587646484, 0.9758333563804626, 0.96875, 0.9745833277702332, 0.9766666889190674, 0.9745833277702332, 0.9733333587646484, 0.9700000286102295, 0.9758333563804626, 0.9745833277702332, 0.9733333587646484, 0.9758333563804626, 0.9775000214576721, 0.9766666889190674, 0.9766666889190674], \"yaxis\": \"y\"}, {\"marker\": {\"color\": \"Blue\"}, \"mode\": \"markers+lines\", \"name\": \"Training loss\", \"text\": [\"1\", \"2\", \"3\", \"4\", \"5\", \"6\", \"7\", \"8\", \"9\", \"10\", \"11\", \"12\", \"13\", \"14\", \"15\", \"16\", \"17\", \"18\", \"19\", \"20\", \"21\", \"22\", \"23\", \"24\", \"25\", \"26\", \"27\", \"28\", \"29\", \"30\", \"31\", \"32\", \"33\"], \"type\": \"scatter\", \"x\": [1, 2, 3, 4, 5, 6, 7, 8, 9, 10, 11, 12, 13, 14, 15, 16, 17, 18, 19, 20, 21, 22, 23, 24, 25, 26, 27, 28, 29, 30, 31, 32, 33], \"xaxis\": \"x2\", \"y\": [0.05098729580640793, 0.052573058754205704, 0.04514273628592491, 0.048942431807518005, 0.0388791598379612, 0.039733488112688065, 0.045566000044345856, 0.04107513278722763, 0.03639499843120575, 0.054148972034454346, 0.04240654036402702, 0.03743673861026764, 0.04357651621103287, 0.03327987343072891, 0.03778187558054924, 0.031261324882507324, 0.0359838493168354, 0.03353164345026016, 0.03451504558324814, 0.030174897983670235, 0.030978094786405563, 0.03127257898449898, 0.029760802164673805, 0.031899627298116684, 0.025543250143527985, 0.027414511889219284, 0.028518855571746826, 0.020124375820159912, 0.03029555268585682, 0.026157546788454056, 0.029453134164214134, 0.023881006985902786, 0.027154797688126564], \"yaxis\": \"y2\"}, {\"marker\": {\"color\": \"Magenta\"}, \"mode\": \"markers+lines\", \"name\": \"Validation loss\", \"text\": [\"1\", \"2\", \"3\", \"4\", \"5\", \"6\", \"7\", \"8\", \"9\", \"10\", \"11\", \"12\", \"13\", \"14\", \"15\", \"16\", \"17\", \"18\", \"19\", \"20\", \"21\", \"22\", \"23\", \"24\", \"25\", \"26\", \"27\", \"28\", \"29\", \"30\", \"31\", \"32\", \"33\"], \"type\": \"scatter\", \"x\": [1, 2, 3, 4, 5, 6, 7, 8, 9, 10, 11, 12, 13, 14, 15, 16, 17, 18, 19, 20, 21, 22, 23, 24, 25, 26, 27, 28, 29, 30, 31, 32, 33], \"xaxis\": \"x2\", \"y\": [0.18527932465076447, 0.1520719826221466, 0.14994308352470398, 0.14052137732505798, 0.14484982192516327, 0.14682817459106445, 0.15726527571678162, 0.15011073648929596, 0.16052551567554474, 0.14290250837802887, 0.16162365674972534, 0.17063674330711365, 0.14124570786952972, 0.14349889755249023, 0.1543794721364975, 0.15791356563568115, 0.14945311844348907, 0.14315856993198395, 0.13811352849006653, 0.1386919617652893, 0.1701810657978058, 0.15616455674171448, 0.13386204838752747, 0.13488821685314178, 0.14671216905117035, 0.1458398699760437, 0.1321272999048233, 0.1412116140127182, 0.15608595311641693, 0.13765846192836761, 0.14141105115413666, 0.1434941291809082, 0.13744090497493744], \"yaxis\": \"y2\"}],                        {\"annotations\": [{\"font\": {\"size\": 16}, \"showarrow\": false, \"text\": \"Training and validation accuracy\", \"x\": 0.225, \"xanchor\": \"center\", \"xref\": \"paper\", \"y\": 1.0, \"yanchor\": \"bottom\", \"yref\": \"paper\"}, {\"font\": {\"size\": 16}, \"showarrow\": false, \"text\": \"Training and validation loss\", \"x\": 0.775, \"xanchor\": \"center\", \"xref\": \"paper\", \"y\": 1.0, \"yanchor\": \"bottom\", \"yref\": \"paper\"}], \"template\": {\"data\": {\"bar\": [{\"error_x\": {\"color\": \"#2a3f5f\"}, \"error_y\": {\"color\": \"#2a3f5f\"}, \"marker\": {\"line\": {\"color\": \"#E5ECF6\", \"width\": 0.5}}, \"type\": \"bar\"}], \"barpolar\": [{\"marker\": {\"line\": {\"color\": \"#E5ECF6\", \"width\": 0.5}}, \"type\": \"barpolar\"}], \"carpet\": [{\"aaxis\": {\"endlinecolor\": \"#2a3f5f\", \"gridcolor\": \"white\", \"linecolor\": \"white\", \"minorgridcolor\": \"white\", \"startlinecolor\": \"#2a3f5f\"}, \"baxis\": {\"endlinecolor\": \"#2a3f5f\", \"gridcolor\": \"white\", \"linecolor\": \"white\", \"minorgridcolor\": \"white\", \"startlinecolor\": \"#2a3f5f\"}, \"type\": \"carpet\"}], \"choropleth\": [{\"colorbar\": {\"outlinewidth\": 0, \"ticks\": \"\"}, \"type\": \"choropleth\"}], \"contour\": [{\"colorbar\": {\"outlinewidth\": 0, \"ticks\": \"\"}, \"colorscale\": [[0.0, \"#0d0887\"], [0.1111111111111111, \"#46039f\"], [0.2222222222222222, \"#7201a8\"], [0.3333333333333333, \"#9c179e\"], [0.4444444444444444, \"#bd3786\"], [0.5555555555555556, \"#d8576b\"], [0.6666666666666666, \"#ed7953\"], [0.7777777777777778, \"#fb9f3a\"], [0.8888888888888888, \"#fdca26\"], [1.0, \"#f0f921\"]], \"type\": \"contour\"}], \"contourcarpet\": [{\"colorbar\": {\"outlinewidth\": 0, \"ticks\": \"\"}, \"type\": \"contourcarpet\"}], \"heatmap\": [{\"colorbar\": {\"outlinewidth\": 0, \"ticks\": \"\"}, \"colorscale\": [[0.0, \"#0d0887\"], [0.1111111111111111, \"#46039f\"], [0.2222222222222222, \"#7201a8\"], [0.3333333333333333, \"#9c179e\"], [0.4444444444444444, \"#bd3786\"], [0.5555555555555556, \"#d8576b\"], [0.6666666666666666, \"#ed7953\"], [0.7777777777777778, \"#fb9f3a\"], [0.8888888888888888, \"#fdca26\"], [1.0, \"#f0f921\"]], \"type\": \"heatmap\"}], \"heatmapgl\": [{\"colorbar\": {\"outlinewidth\": 0, \"ticks\": \"\"}, \"colorscale\": [[0.0, \"#0d0887\"], [0.1111111111111111, \"#46039f\"], [0.2222222222222222, \"#7201a8\"], [0.3333333333333333, \"#9c179e\"], [0.4444444444444444, \"#bd3786\"], [0.5555555555555556, \"#d8576b\"], [0.6666666666666666, \"#ed7953\"], [0.7777777777777778, \"#fb9f3a\"], [0.8888888888888888, \"#fdca26\"], [1.0, \"#f0f921\"]], \"type\": \"heatmapgl\"}], \"histogram\": [{\"marker\": {\"colorbar\": {\"outlinewidth\": 0, \"ticks\": \"\"}}, \"type\": \"histogram\"}], \"histogram2d\": [{\"colorbar\": {\"outlinewidth\": 0, \"ticks\": \"\"}, \"colorscale\": [[0.0, \"#0d0887\"], [0.1111111111111111, \"#46039f\"], [0.2222222222222222, \"#7201a8\"], [0.3333333333333333, \"#9c179e\"], [0.4444444444444444, \"#bd3786\"], [0.5555555555555556, \"#d8576b\"], [0.6666666666666666, \"#ed7953\"], [0.7777777777777778, \"#fb9f3a\"], [0.8888888888888888, \"#fdca26\"], [1.0, \"#f0f921\"]], \"type\": \"histogram2d\"}], \"histogram2dcontour\": [{\"colorbar\": {\"outlinewidth\": 0, \"ticks\": \"\"}, \"colorscale\": [[0.0, \"#0d0887\"], [0.1111111111111111, \"#46039f\"], [0.2222222222222222, \"#7201a8\"], [0.3333333333333333, \"#9c179e\"], [0.4444444444444444, \"#bd3786\"], [0.5555555555555556, \"#d8576b\"], [0.6666666666666666, \"#ed7953\"], [0.7777777777777778, \"#fb9f3a\"], [0.8888888888888888, \"#fdca26\"], [1.0, \"#f0f921\"]], \"type\": \"histogram2dcontour\"}], \"mesh3d\": [{\"colorbar\": {\"outlinewidth\": 0, \"ticks\": \"\"}, \"type\": \"mesh3d\"}], \"parcoords\": [{\"line\": {\"colorbar\": {\"outlinewidth\": 0, \"ticks\": \"\"}}, \"type\": \"parcoords\"}], \"pie\": [{\"automargin\": true, \"type\": \"pie\"}], \"scatter\": [{\"marker\": {\"colorbar\": {\"outlinewidth\": 0, \"ticks\": \"\"}}, \"type\": \"scatter\"}], \"scatter3d\": [{\"line\": {\"colorbar\": {\"outlinewidth\": 0, \"ticks\": \"\"}}, \"marker\": {\"colorbar\": {\"outlinewidth\": 0, \"ticks\": \"\"}}, \"type\": \"scatter3d\"}], \"scattercarpet\": [{\"marker\": {\"colorbar\": {\"outlinewidth\": 0, \"ticks\": \"\"}}, \"type\": \"scattercarpet\"}], \"scattergeo\": [{\"marker\": {\"colorbar\": {\"outlinewidth\": 0, \"ticks\": \"\"}}, \"type\": \"scattergeo\"}], \"scattergl\": [{\"marker\": {\"colorbar\": {\"outlinewidth\": 0, \"ticks\": \"\"}}, \"type\": \"scattergl\"}], \"scattermapbox\": [{\"marker\": {\"colorbar\": {\"outlinewidth\": 0, \"ticks\": \"\"}}, \"type\": \"scattermapbox\"}], \"scatterpolar\": [{\"marker\": {\"colorbar\": {\"outlinewidth\": 0, \"ticks\": \"\"}}, \"type\": \"scatterpolar\"}], \"scatterpolargl\": [{\"marker\": {\"colorbar\": {\"outlinewidth\": 0, \"ticks\": \"\"}}, \"type\": \"scatterpolargl\"}], \"scatterternary\": [{\"marker\": {\"colorbar\": {\"outlinewidth\": 0, \"ticks\": \"\"}}, \"type\": \"scatterternary\"}], \"surface\": [{\"colorbar\": {\"outlinewidth\": 0, \"ticks\": \"\"}, \"colorscale\": [[0.0, \"#0d0887\"], [0.1111111111111111, \"#46039f\"], [0.2222222222222222, \"#7201a8\"], [0.3333333333333333, \"#9c179e\"], [0.4444444444444444, \"#bd3786\"], [0.5555555555555556, \"#d8576b\"], [0.6666666666666666, \"#ed7953\"], [0.7777777777777778, \"#fb9f3a\"], [0.8888888888888888, \"#fdca26\"], [1.0, \"#f0f921\"]], \"type\": \"surface\"}], \"table\": [{\"cells\": {\"fill\": {\"color\": \"#EBF0F8\"}, \"line\": {\"color\": \"white\"}}, \"header\": {\"fill\": {\"color\": \"#C8D4E3\"}, \"line\": {\"color\": \"white\"}}, \"type\": \"table\"}]}, \"layout\": {\"annotationdefaults\": {\"arrowcolor\": \"#2a3f5f\", \"arrowhead\": 0, \"arrowwidth\": 1}, \"coloraxis\": {\"colorbar\": {\"outlinewidth\": 0, \"ticks\": \"\"}}, \"colorscale\": {\"diverging\": [[0, \"#8e0152\"], [0.1, \"#c51b7d\"], [0.2, \"#de77ae\"], [0.3, \"#f1b6da\"], [0.4, \"#fde0ef\"], [0.5, \"#f7f7f7\"], [0.6, \"#e6f5d0\"], [0.7, \"#b8e186\"], [0.8, \"#7fbc41\"], [0.9, \"#4d9221\"], [1, \"#276419\"]], \"sequential\": [[0.0, \"#0d0887\"], [0.1111111111111111, \"#46039f\"], [0.2222222222222222, \"#7201a8\"], [0.3333333333333333, \"#9c179e\"], [0.4444444444444444, \"#bd3786\"], [0.5555555555555556, \"#d8576b\"], [0.6666666666666666, \"#ed7953\"], [0.7777777777777778, \"#fb9f3a\"], [0.8888888888888888, \"#fdca26\"], [1.0, \"#f0f921\"]], \"sequentialminus\": [[0.0, \"#0d0887\"], [0.1111111111111111, \"#46039f\"], [0.2222222222222222, \"#7201a8\"], [0.3333333333333333, \"#9c179e\"], [0.4444444444444444, \"#bd3786\"], [0.5555555555555556, \"#d8576b\"], [0.6666666666666666, \"#ed7953\"], [0.7777777777777778, \"#fb9f3a\"], [0.8888888888888888, \"#fdca26\"], [1.0, \"#f0f921\"]]}, \"colorway\": [\"#636efa\", \"#EF553B\", \"#00cc96\", \"#ab63fa\", \"#FFA15A\", \"#19d3f3\", \"#FF6692\", \"#B6E880\", \"#FF97FF\", \"#FECB52\"], \"font\": {\"color\": \"#2a3f5f\"}, \"geo\": {\"bgcolor\": \"white\", \"lakecolor\": \"white\", \"landcolor\": \"#E5ECF6\", \"showlakes\": true, \"showland\": true, \"subunitcolor\": \"white\"}, \"hoverlabel\": {\"align\": \"left\"}, \"hovermode\": \"closest\", \"mapbox\": {\"style\": \"light\"}, \"paper_bgcolor\": \"white\", \"plot_bgcolor\": \"#E5ECF6\", \"polar\": {\"angularaxis\": {\"gridcolor\": \"white\", \"linecolor\": \"white\", \"ticks\": \"\"}, \"bgcolor\": \"#E5ECF6\", \"radialaxis\": {\"gridcolor\": \"white\", \"linecolor\": \"white\", \"ticks\": \"\"}}, \"scene\": {\"xaxis\": {\"backgroundcolor\": \"#E5ECF6\", \"gridcolor\": \"white\", \"gridwidth\": 2, \"linecolor\": \"white\", \"showbackground\": true, \"ticks\": \"\", \"zerolinecolor\": \"white\"}, \"yaxis\": {\"backgroundcolor\": \"#E5ECF6\", \"gridcolor\": \"white\", \"gridwidth\": 2, \"linecolor\": \"white\", \"showbackground\": true, \"ticks\": \"\", \"zerolinecolor\": \"white\"}, \"zaxis\": {\"backgroundcolor\": \"#E5ECF6\", \"gridcolor\": \"white\", \"gridwidth\": 2, \"linecolor\": \"white\", \"showbackground\": true, \"ticks\": \"\", \"zerolinecolor\": \"white\"}}, \"shapedefaults\": {\"line\": {\"color\": \"#2a3f5f\"}}, \"ternary\": {\"aaxis\": {\"gridcolor\": \"white\", \"linecolor\": \"white\", \"ticks\": \"\"}, \"baxis\": {\"gridcolor\": \"white\", \"linecolor\": \"white\", \"ticks\": \"\"}, \"bgcolor\": \"#E5ECF6\", \"caxis\": {\"gridcolor\": \"white\", \"linecolor\": \"white\", \"ticks\": \"\"}}, \"title\": {\"x\": 0.05}, \"xaxis\": {\"automargin\": true, \"gridcolor\": \"white\", \"linecolor\": \"white\", \"ticks\": \"\", \"title\": {\"standoff\": 15}, \"zerolinecolor\": \"white\", \"zerolinewidth\": 2}, \"yaxis\": {\"automargin\": true, \"gridcolor\": \"white\", \"linecolor\": \"white\", \"ticks\": \"\", \"title\": {\"standoff\": 15}, \"zerolinecolor\": \"white\", \"zerolinewidth\": 2}}}, \"xaxis\": {\"anchor\": \"y\", \"domain\": [0.0, 0.45], \"title\": {\"text\": \"Epoch\"}}, \"xaxis2\": {\"anchor\": \"y2\", \"domain\": [0.55, 1.0], \"title\": {\"text\": \"Epoch\"}}, \"yaxis\": {\"anchor\": \"x\", \"domain\": [0.0, 1.0], \"range\": [0, 1], \"title\": {\"text\": \"Accuracy\"}}, \"yaxis2\": {\"anchor\": \"x2\", \"domain\": [0.0, 1.0], \"range\": [0, 1], \"title\": {\"text\": \"Loss\"}}},                        {\"responsive\": true}                    ).then(function(){\n",
       "                            \n",
       "var gd = document.getElementById('a2ec2a8a-26e5-4f8e-b728-c1f24ec02890');\n",
       "var x = new MutationObserver(function (mutations, observer) {{\n",
       "        var display = window.getComputedStyle(gd).display;\n",
       "        if (!display || display === 'none') {{\n",
       "            console.log([gd, 'removed!']);\n",
       "            Plotly.purge(gd);\n",
       "            observer.disconnect();\n",
       "        }}\n",
       "}});\n",
       "\n",
       "// Listen for the removal of the full notebook cells\n",
       "var notebookContainer = gd.closest('#notebook-container');\n",
       "if (notebookContainer) {{\n",
       "    x.observe(notebookContainer, {childList: true});\n",
       "}}\n",
       "\n",
       "// Listen for the clearing of the current output cell\n",
       "var outputEl = gd.closest('.output');\n",
       "if (outputEl) {{\n",
       "    x.observe(outputEl, {childList: true});\n",
       "}}\n",
       "\n",
       "                        })                };                });            </script>        </div>"
      ]
     },
     "metadata": {},
     "output_type": "display_data"
    }
   ],
   "source": [
    "# evaluate model by plotting the loss error for the training and validation sets\n",
    "def create_trace(x,y,ylabel,color):\n",
    "        trace = go.Scatter(\n",
    "            x = x,y = y,\n",
    "            name=ylabel,\n",
    "            marker=dict(color=color),\n",
    "            mode = \"markers+lines\",\n",
    "            text=x\n",
    "        )\n",
    "        return trace\n",
    "    \n",
    "def plot_accuracy_and_loss(train_model):\n",
    "    hist = train_model.history\n",
    "    acc = hist['accuracy']\n",
    "    val_acc = hist['val_accuracy']\n",
    "    loss = hist['loss']\n",
    "    val_loss = hist['val_loss']\n",
    "    epochs = list(range(1,len(acc)+1))\n",
    "    #define the traces\n",
    "    trace_ta = create_trace(epochs,acc,\"Training accuracy\", \"Green\")\n",
    "    trace_va = create_trace(epochs,val_acc,\"Validation accuracy\", \"Red\")\n",
    "    trace_tl = create_trace(epochs,loss,\"Training loss\", \"Blue\")\n",
    "    trace_vl = create_trace(epochs,val_loss,\"Validation loss\", \"Magenta\")\n",
    "    fig = tools.make_subplots(rows=1,cols=2, subplot_titles=('Training and validation accuracy',\n",
    "                                                             'Training and validation loss'))\n",
    "    #add traces to the figure\n",
    "    fig.append_trace(trace_ta,1,1)\n",
    "    fig.append_trace(trace_va,1,1)\n",
    "    fig.append_trace(trace_tl,1,2)\n",
    "    fig.append_trace(trace_vl,1,2)\n",
    "    #set the layout for the figure\n",
    "    fig['layout']['xaxis'].update(title = 'Epoch')\n",
    "    fig['layout']['xaxis2'].update(title = 'Epoch')\n",
    "    fig['layout']['yaxis'].update(title = 'Accuracy', range=[0,1])\n",
    "    fig['layout']['yaxis2'].update(title = 'Loss', range=[0,1])\n",
    "    #plot\n",
    "    iplot(fig, filename='accuracy-loss')\n",
    "\n",
    "plot_accuracy_and_loss(train_model)"
   ]
  },
  {
   "cell_type": "code",
   "execution_count": 126,
   "metadata": {},
   "outputs": [
    {
     "name": "stdout",
     "output_type": "stream",
     "text": [
      "Test loss: 0.18712486326694489\n",
      "Test accuracy: 0.9649999737739563\n"
     ]
    }
   ],
   "source": [
    "# now run the model on the test set and evaluate the loss and accuracy\n",
    "score = model.evaluate(X_test, y_test, verbose=0)\n",
    "print('Test loss:', score[0])\n",
    "print('Test accuracy:', score[1])"
   ]
  },
  {
   "cell_type": "code",
   "execution_count": 102,
   "metadata": {},
   "outputs": [
    {
     "name": "stdout",
     "output_type": "stream",
     "text": [
      "              precision    recall  f1-score   support\n",
      "\n",
      "           一       0.99      0.99      0.99       200\n",
      "           七       0.97      0.97      0.97       200\n",
      "           万       0.95      0.98      0.97       200\n",
      "           三       0.99      0.98      0.98       200\n",
      "           九       0.91      0.94      0.92       200\n",
      "           二       0.97      0.98      0.98       200\n",
      "           五       1.00      0.99      0.99       200\n",
      "           亿       0.93      0.97      0.95       200\n",
      "           八       1.00      0.99      1.00       200\n",
      "           六       0.98      0.98      0.98       200\n",
      "           十       0.94      0.97      0.96       200\n",
      "           千       0.98      0.93      0.95       200\n",
      "           四       0.99      0.99      0.99       200\n",
      "           百       0.99      0.93      0.96       200\n",
      "           零       0.99      0.99      0.99       200\n",
      "\n",
      "   micro avg       0.97      0.97      0.97      3000\n",
      "   macro avg       0.97      0.97      0.97      3000\n",
      "weighted avg       0.97      0.97      0.97      3000\n",
      "\n",
      "Loss function: 0.1390226185321808, accuracy: 0.9726666808128357\n"
     ]
    }
   ],
   "source": [
    "# test the accuracy per class\n",
    "def test_accuracy_report(model):\n",
    "    predicted = model.predict(X_test)\n",
    "    test_predicted = np.argmax(predicted, axis=1)\n",
    "    test_truth = np.argmax(y_test.values, axis=1)\n",
    "    print(metrics.classification_report(test_truth, test_predicted, target_names=y_test.columns)) \n",
    "    test_res = model.evaluate(X_test, y_test.values, verbose=0)\n",
    "    print('Loss function: %s, accuracy:' % test_res[0], test_res[1])\n",
    "test_accuracy_report(model)"
   ]
  },
  {
   "cell_type": "code",
   "execution_count": 103,
   "metadata": {},
   "outputs": [
    {
     "name": "stdout",
     "output_type": "stream",
     "text": [
      "Best validation loss: 0.12490731477737427, accuracy: 0.9723333120346069\n",
      "              precision    recall  f1-score   support\n",
      "\n",
      "           一       1.00      0.98      0.99       200\n",
      "           七       0.98      0.98      0.98       200\n",
      "           万       0.95      0.98      0.97       200\n",
      "           三       0.98      0.98      0.98       200\n",
      "           九       0.94      0.94      0.94       200\n",
      "           二       0.97      0.97      0.97       200\n",
      "           五       1.00      0.98      0.99       200\n",
      "           亿       0.95      0.97      0.96       200\n",
      "           八       1.00      1.00      1.00       200\n",
      "           六       0.96      0.99      0.98       200\n",
      "           十       0.96      0.96      0.96       200\n",
      "           千       0.97      0.93      0.95       200\n",
      "           四       0.98      0.95      0.97       200\n",
      "           百       0.97      0.94      0.96       200\n",
      "           零       0.98      1.00      0.99       200\n",
      "\n",
      "   micro avg       0.97      0.97      0.97      3000\n",
      "   macro avg       0.97      0.97      0.97      3000\n",
      "weighted avg       0.97      0.97      0.97      3000\n",
      "\n",
      "Loss function: 0.12490731477737427, accuracy: 0.9723333120346069\n"
     ]
    }
   ],
   "source": [
    "# predict using the best model\n",
    "model_optimal = model\n",
    "model_optimal.load_weights('best_model.h5')\n",
    "score = model_optimal.evaluate(X_test, y_test, verbose=0)\n",
    "print(f'Best validation loss: {score[0]}, accuracy: {score[1]}')\n",
    "\n",
    "test_accuracy_report(model_optimal)"
   ]
  },
  {
   "cell_type": "code",
   "execution_count": null,
   "metadata": {},
   "outputs": [],
   "source": []
  }
 ],
 "metadata": {
  "kernelspec": {
   "display_name": "Python 3",
   "language": "python",
   "name": "python3"
  },
  "language_info": {
   "codemirror_mode": {
    "name": "ipython",
    "version": 3
   },
   "file_extension": ".py",
   "mimetype": "text/x-python",
   "name": "python",
   "nbconvert_exporter": "python",
   "pygments_lexer": "ipython3",
   "version": "3.7.0"
  }
 },
 "nbformat": 4,
 "nbformat_minor": 4
}
